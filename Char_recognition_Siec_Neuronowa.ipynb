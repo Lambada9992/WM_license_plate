{
 "cells": [
  {
   "cell_type": "code",
   "execution_count": 50,
   "metadata": {},
   "outputs": [
    {
     "name": "stdout",
     "output_type": "stream",
     "text": [
      "2.4.0\n",
      "[name: \"/device:CPU:0\"\n",
      "device_type: \"CPU\"\n",
      "memory_limit: 268435456\n",
      "locality {\n",
      "}\n",
      "incarnation: 12707879224419279038\n",
      ", name: \"/device:GPU:0\"\n",
      "device_type: \"GPU\"\n",
      "memory_limit: 4922553139\n",
      "locality {\n",
      "  bus_id: 1\n",
      "  links {\n",
      "  }\n",
      "}\n",
      "incarnation: 16198730809252102227\n",
      "physical_device_desc: \"device: 0, name: GeForce GTX 1060 6GB, pci bus id: 0000:01:00.0, compute capability: 6.1\"\n",
      "]\n"
     ]
    }
   ],
   "source": [
    "import tensorflow as tf\n",
    "print(tf.__version__)\n",
    "\n",
    "from tensorflow.python.client import device_lib\n",
    "print(device_lib.list_local_devices())"
   ]
  },
  {
   "cell_type": "code",
   "execution_count": 51,
   "metadata": {},
   "outputs": [],
   "source": [
    "import numpy as np\n",
    "import tensorflow as tf\n",
    "import matplotlib.pyplot as plt\n",
    "import cv2"
   ]
  },
  {
   "cell_type": "code",
   "execution_count": 52,
   "metadata": {},
   "outputs": [],
   "source": [
    "img_size = 128\n",
    "batch_size = 32\n",
    "data_dir = 'blockCharactersData/Fnt_vol2'\n",
    "model = None\n",
    "train = None\n",
    "val = None"
   ]
  },
  {
   "cell_type": "markdown",
   "metadata": {},
   "source": [
    "# Data"
   ]
  },
  {
   "cell_type": "code",
   "execution_count": 53,
   "metadata": {},
   "outputs": [
    {
     "name": "stdout",
     "output_type": "stream",
     "text": [
      "Found 35858 files belonging to 36 classes.\n",
      "Using 28687 files for training.\n",
      "Found 35858 files belonging to 36 classes.\n",
      "Using 7171 files for validation.\n"
     ]
    }
   ],
   "source": [
    "train = tf.keras.preprocessing.image_dataset_from_directory(\n",
    "    data_dir,\n",
    "    labels='inferred',\n",
    "    label_mode='categorical',\n",
    "    validation_split=0.2,\n",
    "    subset=\"training\",\n",
    "    seed=0,\n",
    "    image_size=(img_size, img_size),\n",
    "    batch_size=batch_size,\n",
    "    color_mode='rgb'\n",
    ")\n",
    "val = tf.keras.preprocessing.image_dataset_from_directory(\n",
    "    data_dir,\n",
    "    labels='inferred',\n",
    "    label_mode='categorical',\n",
    "    validation_split=0.2,\n",
    "    subset=\"validation\",\n",
    "    seed=0,\n",
    "    image_size=(img_size, img_size),\n",
    "    batch_size=batch_size,\n",
    "    color_mode='rgb'\n",
    ")"
   ]
  },
  {
   "cell_type": "markdown",
   "metadata": {},
   "source": [
    "# Sieć"
   ]
  },
  {
   "cell_type": "code",
   "execution_count": 67,
   "metadata": {},
   "outputs": [],
   "source": [
    "model = tf.keras.models.Sequential()\n",
    "\n",
    "model.add(tf.keras.layers.experimental.preprocessing.Rescaling(1/255, input_shape=(img_size, img_size, 3)))\n",
    "\n",
    "model.add(tf.keras.layers.Conv2D(16, kernel_size=(3, 3), activation='relu', padding=\"same\"))\n",
    "model.add(tf.keras.layers.BatchNormalization())\n",
    "model.add(tf.keras.layers.MaxPooling2D((2, 2), strides=(2, 2)))\n",
    "model.add(tf.keras.layers.Dropout(0.2))\n",
    "\n",
    "model.add(tf.keras.layers.Conv2D(32, kernel_size=(5, 5), activation='relu', padding=\"valid\"))\n",
    "model.add(tf.keras.layers.BatchNormalization())\n",
    "model.add(tf.keras.layers.MaxPooling2D((2, 2), strides=(2, 2)))\n",
    "model.add(tf.keras.layers.Dropout(0.2))\n",
    "\n",
    "model.add(tf.keras.layers.Conv2D(64, kernel_size=(5, 5), activation='relu', padding=\"valid\"))\n",
    "model.add(tf.keras.layers.BatchNormalization())\n",
    "model.add(tf.keras.layers.MaxPooling2D((2, 2), strides=(2, 2)))\n",
    "model.add(tf.keras.layers.Dropout(0.2))\n",
    "\n",
    "\n",
    "model.add(tf.keras.layers.Flatten())\n",
    "model.add(tf.keras.layers.Dense(512, activation='relu'))\n",
    "model.add(tf.keras.layers.BatchNormalization())\n",
    "model.add(tf.keras.layers.Dropout(0.2))\n",
    "\n",
    "model.add(tf.keras.layers.Dense(256, activation='relu'))\n",
    "model.add(tf.keras.layers.BatchNormalization())\n",
    "model.add(tf.keras.layers.Dropout(0.2))\n",
    "\n",
    "model.add(tf.keras.layers.Dense(128, activation='relu'))\n",
    "model.add(tf.keras.layers.BatchNormalization())\n",
    "model.add(tf.keras.layers.Dropout(0.2))\n",
    "\n",
    "model.add(tf.keras.layers.Dense(36, activation='softmax'))\n",
    "model.compile(optimizer=\"adam\", loss=\"categorical_crossentropy\", metrics=[\"accuracy\"])"
   ]
  },
  {
   "cell_type": "code",
   "execution_count": 68,
   "metadata": {},
   "outputs": [
    {
     "name": "stdout",
     "output_type": "stream",
     "text": [
      "Model: \"sequential_14\"\n",
      "_________________________________________________________________\n",
      "Layer (type)                 Output Shape              Param #   \n",
      "=================================================================\n",
      "rescaling_14 (Rescaling)     (None, 128, 128, 3)       0         \n",
      "_________________________________________________________________\n",
      "conv2d_40 (Conv2D)           (None, 128, 128, 16)      448       \n",
      "_________________________________________________________________\n",
      "batch_normalization_82 (Batc (None, 128, 128, 16)      64        \n",
      "_________________________________________________________________\n",
      "max_pooling2d_40 (MaxPooling (None, 64, 64, 16)        0         \n",
      "_________________________________________________________________\n",
      "dropout_82 (Dropout)         (None, 64, 64, 16)        0         \n",
      "_________________________________________________________________\n",
      "conv2d_41 (Conv2D)           (None, 60, 60, 32)        12832     \n",
      "_________________________________________________________________\n",
      "batch_normalization_83 (Batc (None, 60, 60, 32)        128       \n",
      "_________________________________________________________________\n",
      "max_pooling2d_41 (MaxPooling (None, 30, 30, 32)        0         \n",
      "_________________________________________________________________\n",
      "dropout_83 (Dropout)         (None, 30, 30, 32)        0         \n",
      "_________________________________________________________________\n",
      "conv2d_42 (Conv2D)           (None, 26, 26, 64)        51264     \n",
      "_________________________________________________________________\n",
      "batch_normalization_84 (Batc (None, 26, 26, 64)        256       \n",
      "_________________________________________________________________\n",
      "max_pooling2d_42 (MaxPooling (None, 13, 13, 64)        0         \n",
      "_________________________________________________________________\n",
      "dropout_84 (Dropout)         (None, 13, 13, 64)        0         \n",
      "_________________________________________________________________\n",
      "flatten_14 (Flatten)         (None, 10816)             0         \n",
      "_________________________________________________________________\n",
      "dense_56 (Dense)             (None, 512)               5538304   \n",
      "_________________________________________________________________\n",
      "batch_normalization_85 (Batc (None, 512)               2048      \n",
      "_________________________________________________________________\n",
      "dropout_85 (Dropout)         (None, 512)               0         \n",
      "_________________________________________________________________\n",
      "dense_57 (Dense)             (None, 256)               131328    \n",
      "_________________________________________________________________\n",
      "batch_normalization_86 (Batc (None, 256)               1024      \n",
      "_________________________________________________________________\n",
      "dropout_86 (Dropout)         (None, 256)               0         \n",
      "_________________________________________________________________\n",
      "dense_58 (Dense)             (None, 128)               32896     \n",
      "_________________________________________________________________\n",
      "batch_normalization_87 (Batc (None, 128)               512       \n",
      "_________________________________________________________________\n",
      "dropout_87 (Dropout)         (None, 128)               0         \n",
      "_________________________________________________________________\n",
      "dense_59 (Dense)             (None, 36)                4644      \n",
      "=================================================================\n",
      "Total params: 5,775,748\n",
      "Trainable params: 5,773,732\n",
      "Non-trainable params: 2,016\n",
      "_________________________________________________________________\n"
     ]
    }
   ],
   "source": [
    "model.summary()"
   ]
  },
  {
   "cell_type": "markdown",
   "metadata": {},
   "source": [
    "# Uczenie oraz ocena"
   ]
  },
  {
   "cell_type": "code",
   "execution_count": 69,
   "metadata": {},
   "outputs": [
    {
     "name": "stdout",
     "output_type": "stream",
     "text": [
      "Epoch 1/15\n",
      "897/897 [==============================] - 56s 61ms/step - loss: 1.0361 - accuracy: 0.7420 - val_loss: 0.2458 - val_accuracy: 0.9311\n",
      "Epoch 2/15\n",
      "897/897 [==============================] - 54s 60ms/step - loss: 0.2347 - accuracy: 0.9313 - val_loss: 0.1380 - val_accuracy: 0.9536\n",
      "Epoch 3/15\n",
      "897/897 [==============================] - 54s 60ms/step - loss: 0.1609 - accuracy: 0.9505 - val_loss: 0.1076 - val_accuracy: 0.9632\n",
      "Epoch 4/15\n",
      "897/897 [==============================] - 54s 60ms/step - loss: 0.1125 - accuracy: 0.9625 - val_loss: 0.0891 - val_accuracy: 0.9667\n",
      "Epoch 5/15\n",
      "897/897 [==============================] - 54s 60ms/step - loss: 0.1040 - accuracy: 0.9652 - val_loss: 0.0804 - val_accuracy: 0.9707\n",
      "Epoch 6/15\n",
      "897/897 [==============================] - 54s 60ms/step - loss: 0.0893 - accuracy: 0.9685 - val_loss: 0.0606 - val_accuracy: 0.9794\n",
      "Epoch 7/15\n",
      "897/897 [==============================] - 54s 60ms/step - loss: 0.0815 - accuracy: 0.9730 - val_loss: 0.1068 - val_accuracy: 0.9720\n",
      "Epoch 8/15\n",
      "897/897 [==============================] - 54s 60ms/step - loss: 0.0743 - accuracy: 0.9741 - val_loss: 0.0624 - val_accuracy: 0.9780\n",
      "Epoch 9/15\n",
      "897/897 [==============================] - 54s 60ms/step - loss: 0.0655 - accuracy: 0.9776 - val_loss: 0.0643 - val_accuracy: 0.9777\n",
      "Epoch 10/15\n",
      "897/897 [==============================] - 54s 60ms/step - loss: 0.0597 - accuracy: 0.9775 - val_loss: 0.0548 - val_accuracy: 0.9794\n",
      "Epoch 11/15\n",
      "897/897 [==============================] - 54s 60ms/step - loss: 0.0559 - accuracy: 0.9804 - val_loss: 0.0543 - val_accuracy: 0.9808\n",
      "Epoch 12/15\n",
      "897/897 [==============================] - 54s 60ms/step - loss: 0.0545 - accuracy: 0.9806 - val_loss: 0.0563 - val_accuracy: 0.9827\n",
      "Epoch 13/15\n",
      "897/897 [==============================] - 54s 60ms/step - loss: 0.0582 - accuracy: 0.9809 - val_loss: 0.0505 - val_accuracy: 0.9828\n",
      "Epoch 14/15\n",
      "897/897 [==============================] - 54s 60ms/step - loss: 0.0390 - accuracy: 0.9859 - val_loss: 0.0589 - val_accuracy: 0.9833\n",
      "Epoch 15/15\n",
      "897/897 [==============================] - 54s 60ms/step - loss: 0.0496 - accuracy: 0.9817 - val_loss: 0.0534 - val_accuracy: 0.9815\n"
     ]
    },
    {
     "data": {
      "text/plain": [
       "<tensorflow.python.keras.callbacks.History at 0x2c026f55be0>"
      ]
     },
     "execution_count": 69,
     "metadata": {},
     "output_type": "execute_result"
    }
   ],
   "source": [
    "model.fit(train, epochs=15, validation_data=val)"
   ]
  },
  {
   "cell_type": "code",
   "execution_count": 70,
   "metadata": {},
   "outputs": [
    {
     "name": "stdout",
     "output_type": "stream",
     "text": [
      "897/897 [==============================] - 30s 33ms/step - loss: 0.0228 - accuracy: 0.9910\n"
     ]
    },
    {
     "data": {
      "text/plain": [
       "[0.02284085378050804, 0.9910063743591309]"
      ]
     },
     "execution_count": 70,
     "metadata": {},
     "output_type": "execute_result"
    }
   ],
   "source": [
    "#wyniki na zbiorze uczącym\n",
    "model.evaluate(train) #97.3"
   ]
  },
  {
   "cell_type": "code",
   "execution_count": 71,
   "metadata": {},
   "outputs": [
    {
     "name": "stdout",
     "output_type": "stream",
     "text": [
      "225/225 [==============================] - 8s 33ms/step - loss: 0.0534 - accuracy: 0.9815\n"
     ]
    },
    {
     "data": {
      "text/plain": [
       "[0.05344865471124649, 0.9814530611038208]"
      ]
     },
     "execution_count": 71,
     "metadata": {},
     "output_type": "execute_result"
    }
   ],
   "source": [
    "#wyniki na zbiorze walidacyjnym\n",
    "model.evaluate(val)"
   ]
  },
  {
   "cell_type": "markdown",
   "metadata": {},
   "source": [
    "# Wczytywanie i zapisywanie modeli"
   ]
  },
  {
   "cell_type": "code",
   "execution_count": 72,
   "metadata": {},
   "outputs": [],
   "source": [
    "model.save('siec_v3.h5')"
   ]
  },
  {
   "cell_type": "code",
   "execution_count": 4,
   "metadata": {},
   "outputs": [],
   "source": [
    "model = tf.keras.models.load_model('siec_v1.h5')"
   ]
  },
  {
   "cell_type": "markdown",
   "metadata": {},
   "source": [
    "# Testowanie jednostkowe"
   ]
  },
  {
   "cell_type": "code",
   "execution_count": 17,
   "metadata": {},
   "outputs": [],
   "source": [
    "#path = 'blockCharactersData/Fnt_vol2/A/1.png'\n",
    "#path = 'in/17.jpg'\n",
    "path = 'CharExample/44.jpg'"
   ]
  },
  {
   "cell_type": "code",
   "execution_count": 18,
   "metadata": {},
   "outputs": [
    {
     "name": "stdout",
     "output_type": "stream",
     "text": [
      "['0', '1', '2', '3', '4', '5', '6', '7', '8', '9', 'A', 'a', 'B', 'b', 'C', 'c', 'D', 'd', 'E', 'e', 'F', 'f', 'G', 'g', 'H', 'h', 'I', 'i', 'J', 'j', 'K', 'k', 'L', 'l', 'M', 'm', 'N', 'n', 'O', 'o', 'P', 'p', 'Q', 'q', 'R', 'r', 'S', 's', 'T', 't', 'U', 'u', 'V', 'v', 'W', 'w', 'X', 'x', 'Y', 'y', 'Z', 'z']\n"
     ]
    }
   ],
   "source": [
    "labels = []\n",
    "labels.extend(list('0123456789'))\n",
    "labels.extend(list('AaBbCcDdEeFfGgHhIiJjKkLlMmNnOoPpQqRrSsTtUuVvWwXxYyZz'))\n",
    "print(labels)"
   ]
  },
  {
   "cell_type": "code",
   "execution_count": 19,
   "metadata": {},
   "outputs": [
    {
     "name": "stdout",
     "output_type": "stream",
     "text": [
      "11 a\n"
     ]
    }
   ],
   "source": [
    "image = tf.keras.preprocessing.image.load_img(path, target_size=(img_size, img_size))\n",
    "input_arr = tf.keras.preprocessing.image.img_to_array(image)\n",
    "input_arr_batch = np.array([input_arr])\n",
    "predictions = model.predict(input_arr_batch)\n",
    "print(np.argmax(predictions),labels[np.argmax(predictions)])"
   ]
  },
  {
   "cell_type": "code",
   "execution_count": 20,
   "metadata": {},
   "outputs": [
    {
     "data": {
      "image/png": "[encoded data removed]",
      "text/plain": [
       "<Figure size 432x288 with 1 Axes>"
      ]
     },
     "metadata": {
      "needs_background": "light"
     },
     "output_type": "display_data"
    }
   ],
   "source": [
    "img = cv2.imread(path)\n",
    "plt.imshow(img)\n",
    "plt.show()"
   ]
  },
  {
   "cell_type": "code",
   "execution_count": null,
   "metadata": {},
   "outputs": [],
   "source": []
  }
 ],
 "metadata": {
  "kernelspec": {
   "display_name": "Python 3",
   "language": "python",
   "name": "python3"
  },
  "language_info": {
   "codemirror_mode": {
    "name": "ipython",
    "version": 3
   },
   "file_extension": ".py",
   "mimetype": "text/x-python",
   "name": "python",
   "nbconvert_exporter": "python",
   "pygments_lexer": "ipython3",
   "version": "3.8.8"
  }
 },
 "nbformat": 4,
 "nbformat_minor": 5
}